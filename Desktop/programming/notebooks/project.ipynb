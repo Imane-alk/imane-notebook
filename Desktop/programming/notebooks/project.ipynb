{
 "cells": [
  {
   "cell_type": "markdown",
   "metadata": {},
   "source": [
    "# Introduction \n",
    "\n",
    "\"Education is the most powerful weapon you can use to change the world,\" said Mandela, showing that education is a driver of change and, in this sense, it is essential for everyone’s realization. Therefore, one can argue its importance in the achievement of one’s professional journey, while it has an influence on employability, skills development, and ultimately, personal income. The relationship between education and salary has been the subject of considerable research, given the interest among policymakers, educators, and economists in learning how academic achievements impact income disparities. While higher levels of education are generally associated with better job opportunities and increased earning potential, the extent and consistency of this effect across different populations remain subjects of ongoing analysis.\n",
    " \n",
    "In this context, this study will be examining the interaction between education level and wages in order to identify whether increased levels of education correspond to higher earnings and to explore how it differs among different groups and whether other variables, including work experience, industry, and demographic factors, are important to consider too.\n",
    " \n",
    "To conduct this study in a realistic way, I chose to use a real data-driven method approach to examine the effect of education on earnings using a linear regression model. In fact, the dataset of wage data separated by “race,” gender, and education level in the United States for the period of 1973 to 2022.\n"
   ]
  },
  {
   "cell_type": "markdown",
   "metadata": {},
   "source": [
    "## Data Selection\n",
    "\n",
    "For the purposes of this study, I chose to use the following dataset, **“Wages by Education in the USA (1973-2022)”** from Kaggle, a recognized platform for data science and machine learning datasets. The reason behind my choice of this dataset is that it offers comprehensive information on wages categorized by education level, gender, and “race”. However, it is important to note that the dataset specifically distinguishes between “white”, “black”, and “Hispanic” individuals. I did not take this “racial” categorization into account in my analysis, as such comparisons can be ethically problematic. Instead, my focus remains on the relationship between education and wages over time.\n",
    "\n",
    "Not only is the dataset from the Economic Policy Institute (EPI) – State of Working America Data Library, a well-established research organization specializing in labor and economic trends to guarantee its reliability and credibility, but the data also spans across decades, giving a long-time trend of wages by different levels of education, which is an aspect that will be covered throughout my analysis. \n",
    "\n",
    "Indeed, this dataset appears to be appropriate for answering my research question. Though the question is broad, it can be answered in several ways considering numerous factors. This study will be using a simple linear regression model for simplicity, but more variables can be taken into account while considering the relationship between education and wages.\n",
    "\n",
    "### Data Preprocessing\n",
    "Before proceeding with my analysis, the dataset underwent the following data preprocessing steps:\n",
    "1. Any missing values were addressed by removing incomplete records where necessary.\n",
    "2. Column names were standardized for consistency, and outliers were reviewed for potential data entry errors.\n",
    "3. Certain categorical variables (such as education level) were encoded into numerical values to facilitate regression analysis.\n",
    "4. Only the most relevant columns (education level, wages) were retained to ensure a focused analysis.\n",
    "\n",
    "These data preparation steps ensure that the dataset is clean, structured, and ready for exploratory analysis and modeling in subsequent sections.\n"
   ]
  },
  {
   "cell_type": "markdown",
   "metadata": {
    "id": "BkvJ1tCOp8pH"
   },
   "source": [
    "# **Data Exploration and Visualizations**"
   ]
  },
  {
   "cell_type": "code",
   "execution_count": 1,
   "metadata": {},
   "outputs": [
    {
     "ename": "FileNotFoundError",
     "evalue": "[Errno 2] No such file or directory: 'data/wages_by_education.csv'",
     "output_type": "error",
     "traceback": [
      "\u001b[0;31m---------------------------------------------------------------------------\u001b[0m",
      "\u001b[0;31mFileNotFoundError\u001b[0m                         Traceback (most recent call last)",
      "Cell \u001b[0;32mIn[1], line 5\u001b[0m\n\u001b[1;32m      3\u001b[0m \u001b[38;5;66;03m# Load the dataset \u001b[39;00m\n\u001b[1;32m      4\u001b[0m file_path \u001b[38;5;241m=\u001b[39m \u001b[38;5;124m\"\u001b[39m\u001b[38;5;124mdata/wages_by_education.csv\u001b[39m\u001b[38;5;124m\"\u001b[39m\n\u001b[0;32m----> 5\u001b[0m df \u001b[38;5;241m=\u001b[39m \u001b[43mpd\u001b[49m\u001b[38;5;241;43m.\u001b[39;49m\u001b[43mread_csv\u001b[49m\u001b[43m(\u001b[49m\u001b[43mfile_path\u001b[49m\u001b[43m)\u001b[49m\n\u001b[1;32m      7\u001b[0m \u001b[38;5;66;03m# Display summary statistics\u001b[39;00m\n\u001b[1;32m      8\u001b[0m \u001b[38;5;28mprint\u001b[39m(df\u001b[38;5;241m.\u001b[39mdescribe())\n",
      "File \u001b[0;32m~/Library/Python/3.9/lib/python/site-packages/pandas/io/parsers/readers.py:1026\u001b[0m, in \u001b[0;36mread_csv\u001b[0;34m(filepath_or_buffer, sep, delimiter, header, names, index_col, usecols, dtype, engine, converters, true_values, false_values, skipinitialspace, skiprows, skipfooter, nrows, na_values, keep_default_na, na_filter, verbose, skip_blank_lines, parse_dates, infer_datetime_format, keep_date_col, date_parser, date_format, dayfirst, cache_dates, iterator, chunksize, compression, thousands, decimal, lineterminator, quotechar, quoting, doublequote, escapechar, comment, encoding, encoding_errors, dialect, on_bad_lines, delim_whitespace, low_memory, memory_map, float_precision, storage_options, dtype_backend)\u001b[0m\n\u001b[1;32m   1013\u001b[0m kwds_defaults \u001b[38;5;241m=\u001b[39m _refine_defaults_read(\n\u001b[1;32m   1014\u001b[0m     dialect,\n\u001b[1;32m   1015\u001b[0m     delimiter,\n\u001b[0;32m   (...)\u001b[0m\n\u001b[1;32m   1022\u001b[0m     dtype_backend\u001b[38;5;241m=\u001b[39mdtype_backend,\n\u001b[1;32m   1023\u001b[0m )\n\u001b[1;32m   1024\u001b[0m kwds\u001b[38;5;241m.\u001b[39mupdate(kwds_defaults)\n\u001b[0;32m-> 1026\u001b[0m \u001b[38;5;28;01mreturn\u001b[39;00m \u001b[43m_read\u001b[49m\u001b[43m(\u001b[49m\u001b[43mfilepath_or_buffer\u001b[49m\u001b[43m,\u001b[49m\u001b[43m \u001b[49m\u001b[43mkwds\u001b[49m\u001b[43m)\u001b[49m\n",
      "File \u001b[0;32m~/Library/Python/3.9/lib/python/site-packages/pandas/io/parsers/readers.py:620\u001b[0m, in \u001b[0;36m_read\u001b[0;34m(filepath_or_buffer, kwds)\u001b[0m\n\u001b[1;32m    617\u001b[0m _validate_names(kwds\u001b[38;5;241m.\u001b[39mget(\u001b[38;5;124m\"\u001b[39m\u001b[38;5;124mnames\u001b[39m\u001b[38;5;124m\"\u001b[39m, \u001b[38;5;28;01mNone\u001b[39;00m))\n\u001b[1;32m    619\u001b[0m \u001b[38;5;66;03m# Create the parser.\u001b[39;00m\n\u001b[0;32m--> 620\u001b[0m parser \u001b[38;5;241m=\u001b[39m \u001b[43mTextFileReader\u001b[49m\u001b[43m(\u001b[49m\u001b[43mfilepath_or_buffer\u001b[49m\u001b[43m,\u001b[49m\u001b[43m \u001b[49m\u001b[38;5;241;43m*\u001b[39;49m\u001b[38;5;241;43m*\u001b[39;49m\u001b[43mkwds\u001b[49m\u001b[43m)\u001b[49m\n\u001b[1;32m    622\u001b[0m \u001b[38;5;28;01mif\u001b[39;00m chunksize \u001b[38;5;129;01mor\u001b[39;00m iterator:\n\u001b[1;32m    623\u001b[0m     \u001b[38;5;28;01mreturn\u001b[39;00m parser\n",
      "File \u001b[0;32m~/Library/Python/3.9/lib/python/site-packages/pandas/io/parsers/readers.py:1620\u001b[0m, in \u001b[0;36mTextFileReader.__init__\u001b[0;34m(self, f, engine, **kwds)\u001b[0m\n\u001b[1;32m   1617\u001b[0m     \u001b[38;5;28mself\u001b[39m\u001b[38;5;241m.\u001b[39moptions[\u001b[38;5;124m\"\u001b[39m\u001b[38;5;124mhas_index_names\u001b[39m\u001b[38;5;124m\"\u001b[39m] \u001b[38;5;241m=\u001b[39m kwds[\u001b[38;5;124m\"\u001b[39m\u001b[38;5;124mhas_index_names\u001b[39m\u001b[38;5;124m\"\u001b[39m]\n\u001b[1;32m   1619\u001b[0m \u001b[38;5;28mself\u001b[39m\u001b[38;5;241m.\u001b[39mhandles: IOHandles \u001b[38;5;241m|\u001b[39m \u001b[38;5;28;01mNone\u001b[39;00m \u001b[38;5;241m=\u001b[39m \u001b[38;5;28;01mNone\u001b[39;00m\n\u001b[0;32m-> 1620\u001b[0m \u001b[38;5;28mself\u001b[39m\u001b[38;5;241m.\u001b[39m_engine \u001b[38;5;241m=\u001b[39m \u001b[38;5;28;43mself\u001b[39;49m\u001b[38;5;241;43m.\u001b[39;49m\u001b[43m_make_engine\u001b[49m\u001b[43m(\u001b[49m\u001b[43mf\u001b[49m\u001b[43m,\u001b[49m\u001b[43m \u001b[49m\u001b[38;5;28;43mself\u001b[39;49m\u001b[38;5;241;43m.\u001b[39;49m\u001b[43mengine\u001b[49m\u001b[43m)\u001b[49m\n",
      "File \u001b[0;32m~/Library/Python/3.9/lib/python/site-packages/pandas/io/parsers/readers.py:1880\u001b[0m, in \u001b[0;36mTextFileReader._make_engine\u001b[0;34m(self, f, engine)\u001b[0m\n\u001b[1;32m   1878\u001b[0m     \u001b[38;5;28;01mif\u001b[39;00m \u001b[38;5;124m\"\u001b[39m\u001b[38;5;124mb\u001b[39m\u001b[38;5;124m\"\u001b[39m \u001b[38;5;129;01mnot\u001b[39;00m \u001b[38;5;129;01min\u001b[39;00m mode:\n\u001b[1;32m   1879\u001b[0m         mode \u001b[38;5;241m+\u001b[39m\u001b[38;5;241m=\u001b[39m \u001b[38;5;124m\"\u001b[39m\u001b[38;5;124mb\u001b[39m\u001b[38;5;124m\"\u001b[39m\n\u001b[0;32m-> 1880\u001b[0m \u001b[38;5;28mself\u001b[39m\u001b[38;5;241m.\u001b[39mhandles \u001b[38;5;241m=\u001b[39m \u001b[43mget_handle\u001b[49m\u001b[43m(\u001b[49m\n\u001b[1;32m   1881\u001b[0m \u001b[43m    \u001b[49m\u001b[43mf\u001b[49m\u001b[43m,\u001b[49m\n\u001b[1;32m   1882\u001b[0m \u001b[43m    \u001b[49m\u001b[43mmode\u001b[49m\u001b[43m,\u001b[49m\n\u001b[1;32m   1883\u001b[0m \u001b[43m    \u001b[49m\u001b[43mencoding\u001b[49m\u001b[38;5;241;43m=\u001b[39;49m\u001b[38;5;28;43mself\u001b[39;49m\u001b[38;5;241;43m.\u001b[39;49m\u001b[43moptions\u001b[49m\u001b[38;5;241;43m.\u001b[39;49m\u001b[43mget\u001b[49m\u001b[43m(\u001b[49m\u001b[38;5;124;43m\"\u001b[39;49m\u001b[38;5;124;43mencoding\u001b[39;49m\u001b[38;5;124;43m\"\u001b[39;49m\u001b[43m,\u001b[49m\u001b[43m \u001b[49m\u001b[38;5;28;43;01mNone\u001b[39;49;00m\u001b[43m)\u001b[49m\u001b[43m,\u001b[49m\n\u001b[1;32m   1884\u001b[0m \u001b[43m    \u001b[49m\u001b[43mcompression\u001b[49m\u001b[38;5;241;43m=\u001b[39;49m\u001b[38;5;28;43mself\u001b[39;49m\u001b[38;5;241;43m.\u001b[39;49m\u001b[43moptions\u001b[49m\u001b[38;5;241;43m.\u001b[39;49m\u001b[43mget\u001b[49m\u001b[43m(\u001b[49m\u001b[38;5;124;43m\"\u001b[39;49m\u001b[38;5;124;43mcompression\u001b[39;49m\u001b[38;5;124;43m\"\u001b[39;49m\u001b[43m,\u001b[49m\u001b[43m \u001b[49m\u001b[38;5;28;43;01mNone\u001b[39;49;00m\u001b[43m)\u001b[49m\u001b[43m,\u001b[49m\n\u001b[1;32m   1885\u001b[0m \u001b[43m    \u001b[49m\u001b[43mmemory_map\u001b[49m\u001b[38;5;241;43m=\u001b[39;49m\u001b[38;5;28;43mself\u001b[39;49m\u001b[38;5;241;43m.\u001b[39;49m\u001b[43moptions\u001b[49m\u001b[38;5;241;43m.\u001b[39;49m\u001b[43mget\u001b[49m\u001b[43m(\u001b[49m\u001b[38;5;124;43m\"\u001b[39;49m\u001b[38;5;124;43mmemory_map\u001b[39;49m\u001b[38;5;124;43m\"\u001b[39;49m\u001b[43m,\u001b[49m\u001b[43m \u001b[49m\u001b[38;5;28;43;01mFalse\u001b[39;49;00m\u001b[43m)\u001b[49m\u001b[43m,\u001b[49m\n\u001b[1;32m   1886\u001b[0m \u001b[43m    \u001b[49m\u001b[43mis_text\u001b[49m\u001b[38;5;241;43m=\u001b[39;49m\u001b[43mis_text\u001b[49m\u001b[43m,\u001b[49m\n\u001b[1;32m   1887\u001b[0m \u001b[43m    \u001b[49m\u001b[43merrors\u001b[49m\u001b[38;5;241;43m=\u001b[39;49m\u001b[38;5;28;43mself\u001b[39;49m\u001b[38;5;241;43m.\u001b[39;49m\u001b[43moptions\u001b[49m\u001b[38;5;241;43m.\u001b[39;49m\u001b[43mget\u001b[49m\u001b[43m(\u001b[49m\u001b[38;5;124;43m\"\u001b[39;49m\u001b[38;5;124;43mencoding_errors\u001b[39;49m\u001b[38;5;124;43m\"\u001b[39;49m\u001b[43m,\u001b[49m\u001b[43m \u001b[49m\u001b[38;5;124;43m\"\u001b[39;49m\u001b[38;5;124;43mstrict\u001b[39;49m\u001b[38;5;124;43m\"\u001b[39;49m\u001b[43m)\u001b[49m\u001b[43m,\u001b[49m\n\u001b[1;32m   1888\u001b[0m \u001b[43m    \u001b[49m\u001b[43mstorage_options\u001b[49m\u001b[38;5;241;43m=\u001b[39;49m\u001b[38;5;28;43mself\u001b[39;49m\u001b[38;5;241;43m.\u001b[39;49m\u001b[43moptions\u001b[49m\u001b[38;5;241;43m.\u001b[39;49m\u001b[43mget\u001b[49m\u001b[43m(\u001b[49m\u001b[38;5;124;43m\"\u001b[39;49m\u001b[38;5;124;43mstorage_options\u001b[39;49m\u001b[38;5;124;43m\"\u001b[39;49m\u001b[43m,\u001b[49m\u001b[43m \u001b[49m\u001b[38;5;28;43;01mNone\u001b[39;49;00m\u001b[43m)\u001b[49m\u001b[43m,\u001b[49m\n\u001b[1;32m   1889\u001b[0m \u001b[43m\u001b[49m\u001b[43m)\u001b[49m\n\u001b[1;32m   1890\u001b[0m \u001b[38;5;28;01massert\u001b[39;00m \u001b[38;5;28mself\u001b[39m\u001b[38;5;241m.\u001b[39mhandles \u001b[38;5;129;01mis\u001b[39;00m \u001b[38;5;129;01mnot\u001b[39;00m \u001b[38;5;28;01mNone\u001b[39;00m\n\u001b[1;32m   1891\u001b[0m f \u001b[38;5;241m=\u001b[39m \u001b[38;5;28mself\u001b[39m\u001b[38;5;241m.\u001b[39mhandles\u001b[38;5;241m.\u001b[39mhandle\n",
      "File \u001b[0;32m~/Library/Python/3.9/lib/python/site-packages/pandas/io/common.py:873\u001b[0m, in \u001b[0;36mget_handle\u001b[0;34m(path_or_buf, mode, encoding, compression, memory_map, is_text, errors, storage_options)\u001b[0m\n\u001b[1;32m    868\u001b[0m \u001b[38;5;28;01melif\u001b[39;00m \u001b[38;5;28misinstance\u001b[39m(handle, \u001b[38;5;28mstr\u001b[39m):\n\u001b[1;32m    869\u001b[0m     \u001b[38;5;66;03m# Check whether the filename is to be opened in binary mode.\u001b[39;00m\n\u001b[1;32m    870\u001b[0m     \u001b[38;5;66;03m# Binary mode does not support 'encoding' and 'newline'.\u001b[39;00m\n\u001b[1;32m    871\u001b[0m     \u001b[38;5;28;01mif\u001b[39;00m ioargs\u001b[38;5;241m.\u001b[39mencoding \u001b[38;5;129;01mand\u001b[39;00m \u001b[38;5;124m\"\u001b[39m\u001b[38;5;124mb\u001b[39m\u001b[38;5;124m\"\u001b[39m \u001b[38;5;129;01mnot\u001b[39;00m \u001b[38;5;129;01min\u001b[39;00m ioargs\u001b[38;5;241m.\u001b[39mmode:\n\u001b[1;32m    872\u001b[0m         \u001b[38;5;66;03m# Encoding\u001b[39;00m\n\u001b[0;32m--> 873\u001b[0m         handle \u001b[38;5;241m=\u001b[39m \u001b[38;5;28;43mopen\u001b[39;49m\u001b[43m(\u001b[49m\n\u001b[1;32m    874\u001b[0m \u001b[43m            \u001b[49m\u001b[43mhandle\u001b[49m\u001b[43m,\u001b[49m\n\u001b[1;32m    875\u001b[0m \u001b[43m            \u001b[49m\u001b[43mioargs\u001b[49m\u001b[38;5;241;43m.\u001b[39;49m\u001b[43mmode\u001b[49m\u001b[43m,\u001b[49m\n\u001b[1;32m    876\u001b[0m \u001b[43m            \u001b[49m\u001b[43mencoding\u001b[49m\u001b[38;5;241;43m=\u001b[39;49m\u001b[43mioargs\u001b[49m\u001b[38;5;241;43m.\u001b[39;49m\u001b[43mencoding\u001b[49m\u001b[43m,\u001b[49m\n\u001b[1;32m    877\u001b[0m \u001b[43m            \u001b[49m\u001b[43merrors\u001b[49m\u001b[38;5;241;43m=\u001b[39;49m\u001b[43merrors\u001b[49m\u001b[43m,\u001b[49m\n\u001b[1;32m    878\u001b[0m \u001b[43m            \u001b[49m\u001b[43mnewline\u001b[49m\u001b[38;5;241;43m=\u001b[39;49m\u001b[38;5;124;43m\"\u001b[39;49m\u001b[38;5;124;43m\"\u001b[39;49m\u001b[43m,\u001b[49m\n\u001b[1;32m    879\u001b[0m \u001b[43m        \u001b[49m\u001b[43m)\u001b[49m\n\u001b[1;32m    880\u001b[0m     \u001b[38;5;28;01melse\u001b[39;00m:\n\u001b[1;32m    881\u001b[0m         \u001b[38;5;66;03m# Binary mode\u001b[39;00m\n\u001b[1;32m    882\u001b[0m         handle \u001b[38;5;241m=\u001b[39m \u001b[38;5;28mopen\u001b[39m(handle, ioargs\u001b[38;5;241m.\u001b[39mmode)\n",
      "\u001b[0;31mFileNotFoundError\u001b[0m: [Errno 2] No such file or directory: 'data/wages_by_education.csv'"
     ]
    }
   ],
   "source": [
    "import pandas as pd\n",
    "\n",
    "# Load the dataset \n",
    "file_path = \"data/wages_by_education.csv\"\n",
    "df = pd.read_csv(file_path)\n",
    "\n",
    "# Display summary statistics\n",
    "print(df.describe())"
   ]
  },
  {
   "cell_type": "markdown",
   "metadata": {},
   "source": [
    "I then proceeded to create curves for all wage distributions over different qualifications:"
   ]
  },
  {
   "cell_type": "code",
   "execution_count": null,
   "metadata": {},
   "outputs": [],
   "source": [
    "import matplotlib.pyplot as plt\n",
    "import seaborn as sns\n",
    "\n",
    "# Select relevant columns for wages\n",
    "education_levels = ['less_than_hs', 'high_school', 'some_college', 'bachelors_degree', 'advanced_degree']\n",
    "\n",
    "# Plot histogram\n",
    "plt.figure(figsize=(10, 6))\n",
    "for level in education_levels:\n",
    "    sns.kdeplot(df[level], label=level, fill=True)\n",
    "\n",
    "plt.title(\"Distribution of Wages by Education Level\")\n",
    "plt.xlabel(\"Wage\")\n",
    "plt.ylabel(\"Density\")\n",
    "plt.legend()\n",
    "plt.show()"
   ]
  },
  {
   "cell_type": "markdown",
   "metadata": {},
   "source": [
    "Based on this graph, we can see that salaries vary significantly depending on the level of education. For the group with less than a high school diploma, the majority of salaries are concentrated between 10k and 20k dollars. This suggests that individuals without a high school diploma tend to earn relatively low wages, with little variation within the group.\n",
    "For those with just a high school diploma, the salary distribution is wider, ranging from 15k to 30k dollars. This indicates that people with a high school diploma have more varied salaries, though most are concentrated around 20k to 25k dollars. We can see that a high school diploma offers better opportunities than no diploma, but it still remains limited compared to higher education levels.\n",
    "For individuals with some college education, salaries shift towards higher levels, generally ranging from 20k to 40k dollars. This group has better earnings than high school graduates, but there is also more variability in the salaries. This shows that even without a completed university degree, higher education increases the chances of earning higher wages compared to just a high school diploma.\n",
    "Individuals with a bachelor's degree have a higher salary distribution, with concentrations between 30k and 50k dollars. This shows that people with a university degree tend to earn significantly more than those with just a high school diploma or some college education. The dispersion is also broader, indicating that there are many more opportunities within this group, depending on the sector and experience.\n",
    "Finally, for those with an advanced degree (such as a master's or doctorate), salaries are generally between 40k and 60k dollars, with very few earning less. This indicates that advanced degree holders have the highest average salaries, and the variability is relatively low, showing that they occupy better-paid positions but with higher competition sometimes.\n",
    "In conclusion, based on this graph, we can observe that salaries generally increase with the level of education, confirming the relationship between higher education levels and higher wages. This trend shows that higher education not only offers higher salaries but also a greater diversity of career opportunities.\n",
    "\n"
   ]
  },
  {
   "cell_type": "markdown",
   "metadata": {},
   "source": [
    "I then created a line plot to show how wages for different education levels have changed from 1973 to 2022."
   ]
  },
  {
   "cell_type": "code",
   "execution_count": null,
   "metadata": {
    "colab": {
     "base_uri": "https://localhost:8080/",
     "height": 564
    },
    "id": "Idc_4-Uxntz5",
    "outputId": "c74a869d-6850-468f-b1d9-fefa532cad24"
   },
   "outputs": [],
   "source": [
    "plt.figure(figsize=(12, 6))\n",
    "for level in education_levels:\n",
    "    plt.plot(df['year'], df[level], label=level)\n",
    "\n",
    "plt.title(\"Wage Trends Over Time by Education Level\")\n",
    "plt.xlabel(\"Year\")\n",
    "plt.ylabel(\"Wages\")\n",
    "plt.legend()\n",
    "plt.grid(True)\n",
    "plt.show()"
   ]
  },
  {
   "cell_type": "markdown",
   "metadata": {},
   "source": [
    "Now, let's look at how wage trends have evolved over time for different education levels based on the graph we can make the following observations.\n",
    "\n",
    "For the group with less than high school, the wage trend is the lowest and most stable over time. It is starting from just under 20k dollars in the early 1980s, it increases slowly to around 25k dollars by 2020. This shows that individuals without a high school diploma have seen limited wage growth compared to other groups.\n",
    "\n",
    "On top of that, for the group with a high school diploma, the wages are slightly higher than those without a diploma, but the trend is similar. In fact, it is starting just above 20k dollars in 1980, it gradually rises to around 30k dollars by 2020. The growth is steady, but not as significant, indicating that having just a high school diploma doesn't provide much more wage progression over time.\n",
    "\n",
    "Further, for the group with some college education, there is a noticeable improvement in wage growth. It is starting at around 25k dollars in the 1980s, wages rise more significantly, reaching roughly 35k dollars by 2020. This demonstrates that some college education leads to better wage growth prospects compared to just a high school diploma.\n",
    "\n",
    "For the group with a bachelor's degree, the wage trend shows a more pronounced upward trajectory. It is starting at around 30k dollars in 1980, wages increase steadily to almost 45k dollars by 2020. This suggests that individuals with a bachelor's degree have experienced a more significant wage increase over time compared to those with less education, highlighting the value of higher education.\n",
    "\n",
    "In addition, for the group with an advanced degree, wages start around 35k dollars in the early 1980s and rise consistently, reaching above 50k dollars by 2020. This group not only has the highest wages throughout the period but also experiences the fastest wage growth, showing the significant earning potential for those with advanced degrees.\n",
    "\n",
    "In conclusion, this graph highlights the increasing wage disparity between different education levels over time. It demonstrates that wages for individuals with higher levels of education, such as a bachelor's degree and advanced degrees, have increased at a much faster rate than those with lower educational attainment. The gap between education levels has clearly widened, emphasizing the growing importance of higher education for wage growth in the labor market."
   ]
  },
  {
   "cell_type": "code",
   "execution_count": null,
   "metadata": {
    "colab": {
     "base_uri": "https://localhost:8080/",
     "height": 545
    },
    "id": "iDxJcn34oa80",
    "outputId": "51a34771-f91a-4978-a705-515e9aff481e"
   },
   "outputs": [],
   "source": [
    "plt.figure(figsize=(10, 6))\n",
    "sns.heatmap(df[education_levels].corr(), annot=True, cmap=\"coolwarm\", fmt=\".2f\")\n",
    "plt.title(\"Correlation Heatmap of Wages by Education Level\")\n",
    "plt.show()\n"
   ]
  },
  {
   "cell_type": "markdown",
   "metadata": {},
   "source": [
    "Based on the correlation heatmap, we can observe several important trends regarding the relationship between education level and wages. First, the correlation between less than high school and high school is moderate, at 0.66, which suggests that individuals with less than a high school diploma earn wages that are somewhat similar to those with a high school diploma. However, the correlation with both bachelor's degree (-0.27) and advanced degree (-0.43) is negative, indicating that the wage progression becomes more distinct as education levels increase. This highlights the lower earning potential for individuals with less than a high school diploma compared to those with higher education.\n",
    "\n",
    "On the other hand, the correlation between high school and some college is quite strong, at 0.86, meaning that individuals with a high school diploma tend to earn wages closely aligned with those who have attended some college. The correlation with bachelor's degree (0.46) and advanced degree (0.30) is moderate, showing that while high school graduates earn more than those without a diploma, the wage gap increases as education levels progress. This suggests that having a high school diploma provides better opportunities, but higher education still leads to a more significant wage increase.\n",
    "\n",
    "For those with some college, the correlation with bachelor's degree (0.71) and advanced degree (0.59) is also strong, indicating that individuals with some college education have wages that are more closely aligned with those having a bachelor's or advanced degree compared to high school graduates. This demonstrates that even without completing a university degree, individuals with some college education still experience notable wage growth compared to those with only a high school diploma.\n",
    "\n",
    "Finally, the correlation between bachelor's degree and advanced degree is exceptionally high at 0.98, showing that individuals with a bachelor's degree and advanced degree tend to have very similar wage trends. However, advanced degree holders generally earn higher wages, which reflects the premium that the labor market places on advanced education.\n",
    "\n",
    "In conclusion, the heatmap illustrates a clear trend of increasing wage potential with higher education levels. The correlations between education groups suggest that as individuals move from lower education levels to higher ones, their wages increase significantly. The close correlations between some college, bachelor's degree, and advanced degree also emphasize the strong connection between education and earnings. This analysis underscores the importance of education in determining wage outcomes, highlighting the growing disparity between lower and higher education levels in the labor market."
   ]
  },
  {
   "cell_type": "markdown",
   "metadata": {
    "id": "94kVQmm_qB_2"
   },
   "source": [
    "# **Simple and Multiple Linear Regression Models**"
   ]
  },
  {
   "cell_type": "code",
   "execution_count": null,
   "metadata": {
    "colab": {
     "base_uri": "https://localhost:8080/"
    },
    "id": "c9dISM9VqLjp",
    "outputId": "cb718b0e-c754-42fb-cd88-5b22413472e7"
   },
   "outputs": [],
   "source": [
    "import pandas as pd\n",
    "import statsmodels.api as sm\n",
    "\n",
    "# Load the dataset\n",
    "df = pd.read_csv(\"/Users/imaneamlaiky/Desktop/programming/my_project/data/wages_by_education.csv\")\n",
    "\n",
    "# Define education levels\n",
    "education_levels = [\"less_than_hs\", \"high_school\", \"some_college\", \"bachelors_degree\", \"advanced_degree\"]\n",
    "target_variable = \"advanced_degree\"  # You can modify this to another wage measure if needed\n",
    "\n",
    "model_results = {}\n",
    "\n",
    "# Run OLS regression for each education level\n",
    "for edu in education_levels:\n",
    "    X = df[[edu]]\n",
    "    X = sm.add_constant(X)  # Adding constant term\n",
    "    Y = df[target_variable]  # Wages\n",
    "\n",
    "    # Fit the model\n",
    "    model = sm.OLS(Y, X).fit()\n",
    "\n",
    "    # Store the summary\n",
    "    model_results[edu] = model.summary()\n",
    "\n",
    "# Display regression summaries\n",
    "for edu, summary in model_results.items():\n",
    "    print(f\"Regression results for {edu}:\\n\")\n",
    "    print(summary)\n",
    "    print(\"\\n\" + \"=\"*80 + \"\\n\")\n"
   ]
  },
  {
   "cell_type": "markdown",
   "metadata": {},
   "source": [
    "Based on the results of the simple regression for each education level, we can observe several key trends. For the group with less than a high school diploma, the coefficient for \"less_than_hs\" is -2.0256, indicating a negative relationship between this group and the dependent variable, which is advanced degree attainment. This suggests that having less than a high school diploma is associated with a lower probability of obtaining an advanced degree. The p-value of 0.002 shows that this relationship is statistically significant. However, the R-squared value of 0.185 indicates that only 18.5% of the variation in the dependent variable is explained by the level of education for this group, meaning that other factors likely contribute to the variation in advanced degree attainment.\n",
    "\n",
    "In contrast, for the high school diploma group, the coefficient for \"high_school\" is 2.1679, which is positive, suggesting that having a high school diploma is associated with a higher probability of attaining an advanced degree compared to those with less than a high school diploma. The p-value of 0.032 confirms that this relationship is statistically significant. However, the R-squared value of 0.092 is low, indicating that the high school diploma explains only 9.2% of the variation in the dependent variable. This suggests that, while the high school diploma provides some explanatory power, other factors may be influencing advanced degree attainment more strongly.\n",
    "\n",
    "When we look at the group with some college education, the regression results show a much stronger relationship. The coefficient for \"some_college\" is 4.0308, indicating that having some college education has a much more substantial positive effect on the dependent variable. The p-value is extremely low (less than 0.0001), indicating that the result is statistically significant. Furthermore, the R-squared value of 0.348 suggests that 34.8% of the variation in the dependent variable is explained by having some college education, which represents a noticeable improvement compared to the high school group.\n",
    "\n",
    "For those with a bachelor's degree, the coefficient is 1.5661, showing a positive and statistically significant relationship with the dependent variable, with a p-value less than 0.0001. The R-squared value of 0.953 is very high, meaning that the model explains 95.3% of the variation in the dependent variable. This suggests that a bachelor's degree has a strong, positive impact on the likelihood of attaining an advanced degree, and the model fits this relationship very well.\n",
    "\n",
    "Finally, for the advanced degree group, the coefficient is 1, and the R-squared value is 1.000, indicating a perfect fit for this simple regression model. The p-value is 0.000, confirming that the relationship is highly statistically significant. Since the dependent variable is advanced degree attainment itself, the perfect R-squared value reflects a direct, one-to-one correlation between the variable and the outcome.\n",
    "\n",
    "In conclusion, the simple regression results clearly show that as the level of education increases, the relationship between education and the dependent variable strengthens. The R-squared values and coefficients suggest that higher education levels have a more substantial explanatory power on the outcome, with the model fitting more accurately as education level rises. This indicates that the level of education has a progressively stronger impact on the likelihood of attaining an advanced degree."
   ]
  },
  {
   "cell_type": "markdown",
   "metadata": {
    "id": "SgSnvrdfqfBi"
   },
   "source": [
    "# **Multiple Linear Regression**"
   ]
  },
  {
   "cell_type": "code",
   "execution_count": null,
   "metadata": {
    "colab": {
     "base_uri": "https://localhost:8080/"
    },
    "id": "_RK6gfjTqh7U",
    "outputId": "3b532418-a422-46df-877e-39fedcfd9cb0"
   },
   "outputs": [],
   "source": [
    "from sklearn.model_selection import train_test_split\n",
    "from sklearn.linear_model import LinearRegression\n",
    "from sklearn.metrics import mean_squared_error\n",
    "X = df[[\"bachelors_degree\", \"some_college\", \"high_school\", \"less_than_hs\"]]\n",
    "Y = df[\"advanced_degree\"]  # Target variable\n",
    "X_train, X_test, Y_train, Y_test = train_test_split(X, Y, test_size=0.2, random_state=42)\n",
    "mlr_model = LinearRegression()\n",
    "mlr_model.fit(X_train, Y_train)\n",
    "Y_pred = mlr_model.predict(X_test)\n",
    "mse = mean_squared_error(Y_test, Y_pred)\n",
    "print(f\"Mean Squared Error: {mse}\")\n",
    "print(f\"Model Coefficients: {mlr_model.coef_}\")\n",
    "print(f\"Intercept: {mlr_model.intercept_}\")\n"
   ]
  },
  {
   "cell_type": "markdown",
   "metadata": {},
   "source": [
    "Based on the results of the multiple regression, we can observe several key points. The Mean Squared Error (MSE) is 0.5621, which measures the average squared difference between the predicted and actual values. A lower MSE indicates that the model is relatively accurate in predicting the dependent variable, in this case, the salary. This MSE suggests that the model is performing reasonably well, but it could still be improved depending on specific model expectations or additional data that could be incorporated.\n",
    "\n",
    "The model coefficients give us more specific insights into the impact of each education level on salary. The first coefficient is 1.57777387, which corresponds to the intercept, and represents the predicted value of the salary when all the independent variables (education levels) are equal to zero. While the intercept itself doesn't have much significance in this case, it is necessary for the structure of the regression.\n",
    "\n",
    "Next, the coefficient of -1.09664509 for the \"less than high school\" variable suggests that this group has a lower salary compared to the other groups, even when accounting for other education levels. This indicates that an individual in this category could expect a decrease in salary of about 1.10 units (depending on how the variables are coded, this could correspond to thousands of dollars, for example) compared to the intercept or other education levels, assuming all other factors remain constant. This reflects the negative impact of low education on salary.\n",
    "\n",
    "The coefficient of 0.94396736 for the \"high school diploma\" variable shows a positive relationship with salary, suggesting that an individual with only a high school diploma can expect a salary increase of about 0.94 units (again, possibly in thousands of dollars) compared to those without a diploma, with all other variables held constant. This shows the positive impact of a high school diploma on salary, but the effect is more modest compared to higher education levels.\n",
    "\n",
    "The coefficient of -0.90692469 for the \"some college\" variable suggests that, paradoxically, those with some college education may have a slightly lower salary than those with just a high school diploma. This could be due to a variety of contextual factors or specific career choices within this group. However, this result should be analyzed in more detail to understand the reasons behind this negative relationship.\n",
    "\n",
    "Regarding the intercept of 8.98361299232645, this represents the estimated salary when all independent variables (education levels) are zero. While this is a theoretical reference, it doesn’t have much practical meaning in this specific case, since the education variables are categorical rather than continuous.\n",
    "\n",
    "In conclusion, the results of this multiple regression indicate that education has a significant impact on salary, but with nuances. The coefficients suggest that individuals with lower levels of education (less than high school) or some college education may have lower salaries, while those with a high school diploma or a bachelor’s degree tend to have higher salaries. These results imply that education plays an important role in determining salary, but the exact effect depends on the level of education and other contextual factors. Additionally, this model could be improved by including other relevant variables, such as work experience, geographical location, or industry."
   ]
  },
  {
   "cell_type": "markdown",
   "metadata": {},
   "source": [
    "## Linearity Test"
   ]
  },
  {
   "cell_type": "code",
   "execution_count": null,
   "metadata": {
    "colab": {
     "base_uri": "https://localhost:8080/",
     "height": 946
    },
    "id": "d4fT77KUqi23",
    "outputId": "2f50fffc-4b22-4290-c1c5-917f5658a655"
   },
   "outputs": [],
   "source": [
    "import matplotlib.pyplot as plt\n",
    "import seaborn as sns\n",
    "import pandas as pd\n",
    "\n",
    "# Charger le dataset avec le bon chemin absolu\n",
    "df = pd.read_csv(\"/Users/imaneamlaiky/Desktop/programming/my_project/data/wages_by_education.csv\")\n",
    "\n",
    "# Liste des niveaux d'éducation à analyser\n",
    "education_levels = [\"less_than_hs\", \"high_school\", \"some_college\", \"bachelors_degree\", \"advanced_degree\"]\n",
    "target_variable = \"advanced_degree\"  # Modify if needed\n",
    "\n",
    "# Création des sous-graphes\n",
    "fig, axes = plt.subplots(nrows=2, ncols=3, figsize=(15, 10))\n",
    "axes = axes.flatten()\n",
    "\n",
    "# Tracer les régressions linéaires pour chaque niveau d'éducation\n",
    "for i, edu in enumerate(education_levels):\n",
    "    sns.regplot(x=df[edu], y=df[target_variable], ax=axes[i], scatter_kws={\"alpha\":0.5})\n",
    "    axes[i].set_title(f\"Education Level: {edu} vs. Wages\")\n",
    "    axes[i].set_xlabel(edu)\n",
    "    axes[i].set_ylabel(target_variable)\n",
    "\n",
    "# Supprimer les axes inutilisés (si < 6 sous-graphes)\n",
    "for j in range(i+1, len(axes)):\n",
    "    fig.delaxes(axes[j])\n",
    "\n",
    "plt.tight_layout()\n",
    "plt.show()"
   ]
  },
  {
   "cell_type": "markdown",
   "metadata": {
    "id": "OZ1LjzRcq3Xk"
   },
   "source": [
    "Based on the scatter plots displayed, we can observe the relationship between different education levels and wages, as indicated by the simple regression results.\n",
    "\n",
    "In the first plot, which shows the relationship between less than high school education and wages, the trend appears to be weak or possibly non-linear rather than a clear negative relationship. The regression line does not show a consistent downward slope, and the data points are spread out, suggesting that the relationship between this education level and wages is not strong. This does not fully support a negative correlation between less than high school education and wages, and further analysis might be needed to understand the exact nature of this relationship.\n",
    "\n",
    "In the second plot, showing the relationship between having a high school diploma and wages, there is a positive trend. As the number of years of high school education increases, wages tend to rise. The regression line shows a steady upward slope, suggesting that individuals with a high school diploma tend to earn more than those with less education, confirming the idea that even basic education improves earning potential.\n",
    "\n",
    "Next, the plot showing the relationship between some college education and wages reveals a stronger positive trend. The regression line has a steeper slope, indicating that individuals with some college education earn significantly more than those with just a high school diploma. This further illustrates that higher levels of education, even if not completed, can lead to higher wages, as supported by the regression analysis.\n",
    "\n",
    "In the fourth plot, we observe the relationship between a bachelor’s degree and wages. This scatter plot shows a much clearer and stronger positive relationship, with the data points closely following the regression line. As expected, individuals with a bachelor’s degree tend to earn higher wages, and this is reflected in the steep upward slope of the regression line. The positive relationship becomes even more evident here, indicating that a bachelor’s degree has a strong impact on wages.\n",
    "\n",
    "Finally, the last plot shows the relationship between an advanced degree and wages. This plot reveals almost a perfect positive correlation, as the data points tightly follow the regression line, with very little variation. The regression line suggests that individuals with advanced degrees, such as a master’s or doctoral degree, tend to have the highest wages, further reinforcing the idea that the higher the education level, the higher the earning potential.\n",
    "\n",
    "In conclusion, these scatter plots and the corresponding simple regression lines clearly demonstrate the positive relationship between education level and wages. As education level increases, wages tend to rise as well, with advanced degrees showing the most significant correlation. This trend is consistent with the regression analysis, confirming that higher education is associated with higher wages. However, the relationship between \"less than high school\" education and wages requires further analysis to better understand the nature of their connection.\n",
    "\n",
    "\n",
    "\n",
    "\n",
    "\n",
    "\n",
    "\n"
   ]
  },
  {
   "cell_type": "markdown",
   "metadata": {},
   "source": [
    "## Results and discussion\n",
    "\n",
    "The regression results clearly show that the relationship between education level and wages varies significantly depending on the degree attained. Simple regressions indicate that higher levels of education are more strongly associated with higher wages, particularly for bachelor's and advanced degrees. This is especially evident in the scatter plots, where the regression lines for bachelor’s and advanced degrees show a steep, positive slope with tightly clustered data points, confirming a strong linear relationship.\n",
    "\n",
    "The R-squared values support these visual patterns. The bachelor's degree group shows the highest explanatory power with an R-squared of 0.953, suggesting that education alone accounts for nearly all the variation in wages within this group. Some college education shows a moderate correlation (R-squared = 0.348), while high school and less than high school present much weaker associations, indicating that these education levels alone are not sufficient to explain variations in wages.\n",
    "\n",
    "Moreover, the multiple regression model enhances the overall predictive accuracy, as reflected by a lower Mean Squared Error (MSE = 0.562). This suggests that considering multiple education levels together provides a more reliable estimation of wage outcomes compared to simple regressions.\n",
    "\n",
    "Overall, these findings reinforce the well-established notion that higher educational attainment leads to higher earnings. They also highlight that the strength of this relationship increases significantly from lower to higher education levels."
   ]
  },
  {
   "cell_type": "markdown",
   "metadata": {},
   "source": [
    "## Challenges and Discussion\n",
    "\n",
    "Several challenges emerged during the analysis. The first was related to data availability and quality. Some years within the dataset contained missing or inconsistent entries, which required preprocessing and, in some cases, imputation to maintain continuity across time. Additionally, the presence of wage outliers influenced the regression outputs, especially in the lower education groups, potentially distorting the relationships being measured.\n",
    "\n",
    "A second challenge was the limited scope of explanatory variables. The dataset focused almost exclusively on education levels, omitting important factors such as regional economic conditions, work experience, industry sector, or individual competencies. As a result, some of the observed wage variation likely stems from omitted variables, which could weaken the model’s explanatory power—particularly for groups like \"some college\" or \"high school,\" where wage outcomes are more heterogeneous.\n",
    "\n",
    "Despite these limitations, the models still captured a strong and consistent relationship between higher education levels and increased wages. The use of both simple and multiple regressions, along with visual analysis from scatter plots, helped strengthen the overall robustness of the findings.\n",
    "\n",
    "## Conclusion\n",
    "\n",
    "This study explored the relationship between education and wages using linear regression methods. The results indicate a clear and positive association: higher levels of education are strongly linked to higher wages, with bachelor’s and advanced degrees showing the most significant increases. In contrast, lower education levels are less predictive of wage outcomes.\n",
    "\n",
    "Multiple regression analysis provided improved predictive performance, with a lower Mean Squared Error, highlighting the benefit of accounting for multiple education levels simultaneously. While the focus on education limited the model’s scope, the findings remain consistent with broader economic theory suggesting that investment in human capital—particularly through education—leads to improved wage prospects.\n",
    "\n",
    "Future research could extend this analysis by integrating additional variables such as work experience, geographic location, and industry type, to refine the model and better capture the complexity of wage determinants."
   ]
  },
  {
   "cell_type": "code",
   "execution_count": null,
   "metadata": {},
   "outputs": [],
   "source": []
  }
 ],
 "metadata": {
  "colab": {
   "provenance": []
  },
  "kernelspec": {
   "display_name": "Python 3 (ipykernel)",
   "language": "python",
   "name": "python3"
  },
  "language_info": {
   "codemirror_mode": {
    "name": "ipython",
    "version": 3
   },
   "file_extension": ".py",
   "mimetype": "text/x-python",
   "name": "python",
   "nbconvert_exporter": "python",
   "pygments_lexer": "ipython3",
   "version": "3.9.6"
  }
 },
 "nbformat": 4,
 "nbformat_minor": 4
}
